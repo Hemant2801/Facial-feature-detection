{
 "cells": [
  {
   "cell_type": "code",
   "execution_count": 7,
   "metadata": {
    "id": "tmTb-BStYKl6"
   },
   "outputs": [],
   "source": [
    "import matplotlib.pyplot as plt\n",
    "import numpy as np\n",
    "import cv2\n",
    "import wget"
   ]
  },
  {
   "cell_type": "code",
   "execution_count": 2,
   "metadata": {
    "colab": {
     "base_uri": "https://localhost:8080/",
     "height": 35
    },
    "id": "aAbxCaPlYRr3",
    "outputId": "057835cc-e844-41e8-9078-704d7beb12b9"
   },
   "outputs": [
    {
     "data": {
      "text/plain": [
       "'19.19.0'"
      ]
     },
     "execution_count": 2,
     "metadata": {},
     "output_type": "execute_result"
    }
   ],
   "source": [
    "dlib.__version__"
   ]
  },
  {
   "cell_type": "code",
   "execution_count": null,
   "metadata": {
    "colab": {
     "base_uri": "https://localhost:8080/"
    },
    "id": "C02FtBt3e9y2",
    "outputId": "9f98aeae-f2ad-43ca-dbf5-a91ea404d424"
   },
   "outputs": [],
   "source": [
    "#This will download the files necessary for this code to run.\n",
    "#Afterdownlaoding the file extract them.\n",
    "!python -m wget \"http://dlib.net/files/shape_predictor_5_face_landmarks.dat.bz2\"\n",
    "!python -m wget \"http://dlib.net/files/dlib_face_recognition_resnet_model_v1.dat.bz2\""
   ]
  },
  {
   "cell_type": "code",
   "execution_count": 3,
   "metadata": {
    "id": "q8GKlTw4jB0m"
   },
   "outputs": [],
   "source": [
    "#Decompress the above file\n",
    "detector = dlib.get_frontal_face_detector()\n",
    "sp = dlib.shape_predictor('shape_predictor_5_face_landmarks.dat')\n",
    "fr = dlib.face_recognition_model_v1('dlib_face_recognition_resnet_model_v1.dat')"
   ]
  },
  {
   "cell_type": "code",
   "execution_count": 4,
   "metadata": {},
   "outputs": [],
   "source": [
    "threshold = 0.6\n",
    "def euclideandistance(source_represtentation, test_representation, img):\n",
    "    val = img.split('.')[0]\n",
    "    dis = source_represtentation - test_representation\n",
    "    dis = np.sum(np.multiply(dis, dis))\n",
    "    dis = np.sqrt(dis)\n",
    "    if dis < threshold:\n",
    "        return val\n",
    "    else:\n",
    "        return f'Not {val}'"
   ]
  },
  {
   "cell_type": "code",
   "execution_count": 5,
   "metadata": {},
   "outputs": [],
   "source": [
    "#Give the image file with your name \n",
    "image = 'user_name.jpg'\n",
    "img = cv2.imread(image)\n",
    "res = cv2.resize(img, (480, 480))\n",
    "faces = detector(res, 1)\n",
    "img1_shape =sp(res, faces[0])\n",
    "img_aligned = dlib.get_face_chip(res, img1_shape)\n",
    "img_rep = fr.compute_face_descriptor(img_aligned)\n",
    "image1 = np.array(img_rep)"
   ]
  },
  {
   "cell_type": "code",
   "execution_count": 6,
   "metadata": {
    "id": "njS4mcygqCxh"
   },
   "outputs": [],
   "source": [
    "#This code will detect if the person in front of camera is the same person as in image or not.\n",
    "#works for only one person at a time\n",
    "cam = cv2.VideoCapture(0)\n",
    "\n",
    "if not cam.isOpened():\n",
    "    cam = cv2.VideoCapture(0)\n",
    "    if not cam.isOpened():\n",
    "        cam = cv2.VideoCapture(0)\n",
    "else:\n",
    "    while True:\n",
    "        _, frame = cam.read()\n",
    "        img_detected = detector(frame, 1)\n",
    "        im = list(img_detected)\n",
    "        #print(len(im))\n",
    "        if len(im) < 1:\n",
    "            cv2.imshow('frame',frame)\n",
    "        else:\n",
    "            img_shape = sp(frame, img_detected[0])\n",
    "            img_aligned = dlib.get_face_chip(frame, img_shape)\n",
    "            img_rep = fr.compute_face_descriptor(img_aligned)\n",
    "            image2 = np.array(img_rep)\n",
    "            distance = euclideandistance(image1, image2, image)\n",
    "            for face in img_detected:\n",
    "                x = face.left()\n",
    "                y = face.top() #could be face.bottom() - not sure\n",
    "                w = face.right() - face.left()\n",
    "                h = face.bottom() - face.top()\n",
    "                cv2.rectangle(frame, (x, y), (x + w, y + h), (255, 0, 255), 2)\n",
    "                cv2.putText(frame, f'{distance}', (x, y - 10), cv2.FONT_HERSHEY_SIMPLEX, 0.6, (255, 0 ,255), 2)\n",
    "            #print(distance, x, y, w, h)\n",
    "            #cv2.putText\n",
    "        cv2.imshow('frame',frame)\n",
    "        if cv2.waitKey(2) & 0xFF ==ord('q'):\n",
    "            break\n",
    "cam.release()\n",
    "cv2.destroyAllWindows()"
   ]
  }
 ],
 "metadata": {
  "accelerator": "GPU",
  "colab": {
   "collapsed_sections": [],
   "name": "Face Recognition using Dlib.ipynb",
   "provenance": []
  },
  "kernelspec": {
   "display_name": "Python 3",
   "language": "python",
   "name": "python3"
  },
  "language_info": {
   "codemirror_mode": {
    "name": "ipython",
    "version": 3
   },
   "file_extension": ".py",
   "mimetype": "text/x-python",
   "name": "python",
   "nbconvert_exporter": "python",
   "pygments_lexer": "ipython3",
   "version": "3.8.8"
  }
 },
 "nbformat": 4,
 "nbformat_minor": 1
}
